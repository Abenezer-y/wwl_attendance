{
 "cells": [
  {
   "cell_type": "code",
   "execution_count": 1,
   "metadata": {},
   "outputs": [],
   "source": [
    "import pandas as pd\n",
    "from dataclasses import dataclass, asdict, replace, astuple\n",
    "import requests\n",
    "import json"
   ]
  },
  {
   "cell_type": "code",
   "execution_count": 2,
   "metadata": {},
   "outputs": [],
   "source": [
    "def submit_data(collection, docs, credential):\n",
    "    headers = {'Content-Type': 'application/json', 'Access-Control-Request-Headers': '*','api-key': credential['key']}\n",
    "    insert_url = f\"{credential['uri']}/action/insertMany\"\n",
    "    Payload = json.dumps({\"collection\": collection, \"database\": credential['db'], \"dataSource\": credential['cluster'], \"documents\": docs})\n",
    "    response = requests.request(\"POST\", insert_url, headers=headers, data=Payload)\n",
    "    return response\n",
    "    \n",
    "def get_data(collection, credential):\n",
    "    headers = {'Content-Type': 'application/json', 'Access-Control-Request-Headers': '*','api-key': credential['key']}\n",
    "    findAll_url =  f\"{credential['uri']}/action/find\"\n",
    "    Payload = json.dumps({\"collection\": collection, \"database\":credential['db'], \"dataSource\": credential['cluster'], \"filter\": {}, \"limit\":5000})\n",
    "    response = requests.request(\"POST\", findAll_url, headers=headers, data=Payload)\n",
    "    response_json = response.json()['documents']\n",
    "    # status = [_['status'] for _ in response_json]\n",
    "    df = pd.read_json(json.dumps(response_json))\n",
    "    return df\n",
    "\n",
    "\n",
    "def update_data(collection, condition, doc,  credential):\n",
    "    headers = {'Content-Type': 'application/json', 'Access-Control-Request-Headers': '*','api-key': credential['key']}\n",
    "    updateOne_url = f\"{credential['uri']}/action/updateOne\"\n",
    "    Payload = json.dumps({\"collection\": collection, \"database\": credential['db'], \"dataSource\": credential['cluster'], \"filter\": condition, \"update\":{\"$set\": doc}})\n",
    "    response = requests.request(\"POST\", updateOne_url, headers=headers, data=Payload)\n",
    "    return response"
   ]
  },
  {
   "cell_type": "code",
   "execution_count": 8,
   "metadata": {},
   "outputs": [],
   "source": [
    "wwl_db = {'cluster': \"WWL\", \n",
    "'uri': 'https://data.mongodb-api.com/app/data-qvnrx/endpoint/data/v1' ,\n",
    "'db': \"wwl\" ,\n",
    "'key': \"5d9sGO28viSiX1HnJlOLN6QMqPqxYz6NIKVUMvEU8wXvAS0CPHMMHs2jF0UHKSCF\"}"
   ]
  },
  {
   "cell_type": "code",
   "execution_count": 3,
   "metadata": {},
   "outputs": [],
   "source": [
    "@dataclass\n",
    "class Attendance:\n",
    "    present: str  \n",
    "    name: str \n",
    "    department: str"
   ]
  },
  {
   "cell_type": "code",
   "execution_count": 7,
   "metadata": {},
   "outputs": [
    {
     "data": {
      "text/plain": [
       "[{'present': 'No', 'name': 'Guruwinder Singh', 'department': 'Duty Manager'},\n",
       " {'present': 'No',\n",
       "  'name': 'El Mostafa Ben Mouina',\n",
       "  'department': 'Duty Manager'},\n",
       " {'present': 'No', 'name': 'Morris Mbugu', 'department': 'Duty Manager'},\n",
       " {'present': 'No',\n",
       "  'name': 'Thembani Tywakadi',\n",
       "  'department': 'Ice Rink Supervisor'},\n",
       " {'present': 'No', 'name': 'Abdul Samad', 'department': 'Ice Rink Supervisor'},\n",
       " {'present': 'No', 'name': 'Aleksandra Antczak', 'department': 'Ice Marshall'},\n",
       " {'present': 'No', 'name': 'Izabella Magdowska', 'department': 'Ice Marshall'},\n",
       " {'present': 'No', 'name': 'Konrad Kita', 'department': 'Ice Marshall'},\n",
       " {'present': 'No',\n",
       "  'name': 'Ethelmae Jewel Suguitan',\n",
       "  'department': 'Ice Marshall'},\n",
       " {'present': 'No', 'name': 'Gabija Meilunaite', 'department': 'Ice Marshall'},\n",
       " {'present': 'No',\n",
       "  'name': 'Abdulrahman Mohhamed Ahmed Albahri',\n",
       "  'department': 'Ice Marshall'},\n",
       " {'present': 'No', 'name': 'Jose Fernando', 'department': 'Ice Marshall'},\n",
       " {'present': 'No', 'name': 'Kamil Kabaszyn', 'department': 'Ice Marshall'},\n",
       " {'present': 'No', 'name': 'Saud Aljumairi', 'department': 'Ice Marshall'},\n",
       " {'present': 'No',\n",
       "  'name': 'Brian Njoroge Wanjiku',\n",
       "  'department': 'Ice Marshall'},\n",
       " {'present': 'No', 'name': 'Mohammad Waqas', 'department': 'Skate Exchange'},\n",
       " {'present': 'No', 'name': 'Azreena Shaheed', 'department': 'Skate Exchange'},\n",
       " {'present': 'No', 'name': 'Cecil Varghese', 'department': 'Skate Exchange'},\n",
       " {'present': 'No', 'name': 'Raees Sulaiman', 'department': 'Skate Exchange'},\n",
       " {'present': 'No',\n",
       "  'name': 'Maryam Salim Jalil',\n",
       "  'department': 'Skate Exchange'},\n",
       " {'present': 'No', 'name': 'Fariha Anees', 'department': 'Skate Exchange'},\n",
       " {'present': 'No', 'name': 'Anne Perera', 'department': 'Skate Exchange'},\n",
       " {'present': 'No', 'name': 'Mohamed Ben Zaid', 'department': 'Skate Exchange'},\n",
       " {'present': 'No', 'name': 'Lois  Acquah', 'department': 'Skate Exchange'},\n",
       " {'present': 'No', 'name': 'Arjun s Mohan ', 'department': 'Skate Exchange'},\n",
       " {'present': 'No', 'name': 'Rajesh Greeson', 'department': 'Skate Exchange'},\n",
       " {'present': 'No', 'name': 'Sen Mathew', 'department': 'Skate Exchange'},\n",
       " {'present': 'No', 'name': 'Ashik Kurin', 'department': 'Skate Exchange'},\n",
       " {'present': 'No', 'name': 'Jason John', 'department': 'Skate Exchange'},\n",
       " {'present': 'No',\n",
       "  'name': 'Jewel Lisa Rose Dsouza',\n",
       "  'department': 'Slide Marshall'},\n",
       " {'present': 'No', 'name': 'Mishaal Siraj', 'department': 'Slide Marshall'},\n",
       " {'present': 'No',\n",
       "  'name': 'Janindee Onethra Dissanayake',\n",
       "  'department': 'Slide Marshall'},\n",
       " {'present': 'No', 'name': 'Arman Miha', 'department': 'Slide Marshall'},\n",
       " {'present': 'No', 'name': 'Abdul Hakim', 'department': 'Slide Marshall'},\n",
       " {'present': 'No', 'name': 'Muddasser', 'department': 'Slide Marshall'},\n",
       " {'present': 'No', 'name': 'Cedric V. Daysa', 'department': 'Slide Marshall'},\n",
       " {'present': 'No', 'name': 'Ruth Ann Wanjiku', 'department': 'Slide Marshall'},\n",
       " {'present': 'No', 'name': 'Kristina Atienza', 'department': 'Slide Marshall'}]"
      ]
     },
     "execution_count": 7,
     "metadata": {},
     "output_type": "execute_result"
    }
   ],
   "source": [
    "name_df = pd.read_excel('LWW Ice Attendance.xlsx',sheet_name='Sheet2')\n",
    "dep_lt = name_df['duty'].values.tolist()\n",
    "name_lt = name_df['name'].values.tolist()\n",
    "list_name = []\n",
    "for i in range (name_df.shape[0]):\n",
    "    record = Attendance(present= 'No', name=name_lt[i] , department=dep_lt[i] )\n",
    "    list_name.append(asdict(record))\n",
    "list_name"
   ]
  },
  {
   "cell_type": "code",
   "execution_count": 9,
   "metadata": {},
   "outputs": [
    {
     "data": {
      "text/plain": [
       "<Response [201]>"
      ]
     },
     "execution_count": 9,
     "metadata": {},
     "output_type": "execute_result"
    }
   ],
   "source": [
    "submit_data('attendance', list_name, wwl_db)"
   ]
  },
  {
   "cell_type": "code",
   "execution_count": null,
   "metadata": {},
   "outputs": [],
   "source": []
  }
 ],
 "metadata": {
  "kernelspec": {
   "display_name": "Python 3.10.6 64-bit",
   "language": "python",
   "name": "python3"
  },
  "language_info": {
   "codemirror_mode": {
    "name": "ipython",
    "version": 3
   },
   "file_extension": ".py",
   "mimetype": "text/x-python",
   "name": "python",
   "nbconvert_exporter": "python",
   "pygments_lexer": "ipython3",
   "version": "3.10.6"
  },
  "orig_nbformat": 4,
  "vscode": {
   "interpreter": {
    "hash": "d876bf01d3261e3d19da608968666802ab63526d51a9f0859bd34c85d9139b09"
   }
  }
 },
 "nbformat": 4,
 "nbformat_minor": 2
}
